{
 "cells": [
  {
   "cell_type": "markdown",
   "id": "96d86498-8f19-4e7e-878c-90e5693b292e",
   "metadata": {},
   "source": [
    "# Exam 2 (100 Points)"
   ]
  },
  {
   "cell_type": "markdown",
   "id": "09bd1386-9f89-40b4-a15c-4ddfb261a4a8",
   "metadata": {},
   "source": [
    "**Question 1 - Multiple Regression (40 Points)**\n",
    "- We will use dataset \"fish\" from the wooldridge package to estimate people's demand for fish\n",
    "- This dataset contains information of fish sale price and quantity of a local fish market\n",
    "- The variables are as below:\n",
    "    - **lavgprc**: log of average price\n",
    "    - **ltotqty**: log of total quantity sold\n",
    "    - **mon** = 1 if Monday\n",
    "    - **tues** = 1 if Tuesdays\n",
    "    - **wed** = 1 if Wednesday\n",
    "    - **thurs** = 1 if Thursday\n",
    "- Assume that the demand equation can be written as: $$log(totqty) = \\beta_0 + \\beta_1log(avgprc) + \\beta_2mon + \\beta_3tues + \\beta_4wed + \\beta_5thurs + \\mu$$"
   ]
  },
  {
   "cell_type": "code",
   "execution_count": 6,
   "id": "773d2b53-38cc-45b1-80de-03f86be10266",
   "metadata": {
    "tags": []
   },
   "outputs": [
    {
     "data": {
      "text/html": [
       "<div>\n",
       "<style scoped>\n",
       "    .dataframe tbody tr th:only-of-type {\n",
       "        vertical-align: middle;\n",
       "    }\n",
       "\n",
       "    .dataframe tbody tr th {\n",
       "        vertical-align: top;\n",
       "    }\n",
       "\n",
       "    .dataframe thead th {\n",
       "        text-align: right;\n",
       "    }\n",
       "</style>\n",
       "<table border=\"1\" class=\"dataframe\">\n",
       "  <thead>\n",
       "    <tr style=\"text-align: right;\">\n",
       "      <th></th>\n",
       "      <th>prca</th>\n",
       "      <th>prcw</th>\n",
       "      <th>qtya</th>\n",
       "      <th>qtyw</th>\n",
       "      <th>mon</th>\n",
       "      <th>tues</th>\n",
       "      <th>wed</th>\n",
       "      <th>thurs</th>\n",
       "      <th>speed2</th>\n",
       "      <th>wave2</th>\n",
       "      <th>speed3</th>\n",
       "      <th>wave3</th>\n",
       "      <th>avgprc</th>\n",
       "      <th>totqty</th>\n",
       "      <th>lavgprc</th>\n",
       "      <th>ltotqty</th>\n",
       "      <th>t</th>\n",
       "      <th>lavgp_1</th>\n",
       "      <th>gavgprc</th>\n",
       "      <th>gavgp_1</th>\n",
       "    </tr>\n",
       "  </thead>\n",
       "  <tbody>\n",
       "    <tr>\n",
       "      <th>0</th>\n",
       "      <td>0.622222</td>\n",
       "      <td>0.766667</td>\n",
       "      <td>1875</td>\n",
       "      <td>2205</td>\n",
       "      <td>1</td>\n",
       "      <td>0</td>\n",
       "      <td>0</td>\n",
       "      <td>0</td>\n",
       "      <td>15</td>\n",
       "      <td>7.5</td>\n",
       "      <td>20</td>\n",
       "      <td>9.0</td>\n",
       "      <td>0.700286</td>\n",
       "      <td>4080</td>\n",
       "      <td>-0.356266</td>\n",
       "      <td>8.313852</td>\n",
       "      <td>1</td>\n",
       "      <td>NaN</td>\n",
       "      <td>NaN</td>\n",
       "      <td>NaN</td>\n",
       "    </tr>\n",
       "    <tr>\n",
       "      <th>1</th>\n",
       "      <td>0.972222</td>\n",
       "      <td>1.175000</td>\n",
       "      <td>2900</td>\n",
       "      <td>566</td>\n",
       "      <td>0</td>\n",
       "      <td>0</td>\n",
       "      <td>1</td>\n",
       "      <td>0</td>\n",
       "      <td>10</td>\n",
       "      <td>5.0</td>\n",
       "      <td>20</td>\n",
       "      <td>7.5</td>\n",
       "      <td>1.005336</td>\n",
       "      <td>3466</td>\n",
       "      <td>0.005322</td>\n",
       "      <td>8.150757</td>\n",
       "      <td>2</td>\n",
       "      <td>-0.356266</td>\n",
       "      <td>0.361588</td>\n",
       "      <td>NaN</td>\n",
       "    </tr>\n",
       "    <tr>\n",
       "      <th>2</th>\n",
       "      <td>1.233333</td>\n",
       "      <td>1.475000</td>\n",
       "      <td>770</td>\n",
       "      <td>1525</td>\n",
       "      <td>0</td>\n",
       "      <td>0</td>\n",
       "      <td>0</td>\n",
       "      <td>1</td>\n",
       "      <td>10</td>\n",
       "      <td>6.0</td>\n",
       "      <td>20</td>\n",
       "      <td>4.0</td>\n",
       "      <td>1.393918</td>\n",
       "      <td>2295</td>\n",
       "      <td>0.332118</td>\n",
       "      <td>7.738488</td>\n",
       "      <td>3</td>\n",
       "      <td>0.005322</td>\n",
       "      <td>0.326797</td>\n",
       "      <td>0.361588</td>\n",
       "    </tr>\n",
       "    <tr>\n",
       "      <th>3</th>\n",
       "      <td>1.928571</td>\n",
       "      <td>1.625000</td>\n",
       "      <td>927</td>\n",
       "      <td>943</td>\n",
       "      <td>0</td>\n",
       "      <td>0</td>\n",
       "      <td>0</td>\n",
       "      <td>0</td>\n",
       "      <td>15</td>\n",
       "      <td>6.0</td>\n",
       "      <td>20</td>\n",
       "      <td>5.0</td>\n",
       "      <td>1.775487</td>\n",
       "      <td>1870</td>\n",
       "      <td>0.574075</td>\n",
       "      <td>7.533694</td>\n",
       "      <td>4</td>\n",
       "      <td>0.332118</td>\n",
       "      <td>0.241956</td>\n",
       "      <td>0.326797</td>\n",
       "    </tr>\n",
       "    <tr>\n",
       "      <th>4</th>\n",
       "      <td>0.803125</td>\n",
       "      <td>0.864286</td>\n",
       "      <td>4220</td>\n",
       "      <td>2665</td>\n",
       "      <td>1</td>\n",
       "      <td>0</td>\n",
       "      <td>0</td>\n",
       "      <td>0</td>\n",
       "      <td>10</td>\n",
       "      <td>3.5</td>\n",
       "      <td>20</td>\n",
       "      <td>3.5</td>\n",
       "      <td>0.826799</td>\n",
       "      <td>6885</td>\n",
       "      <td>-0.190194</td>\n",
       "      <td>8.837100</td>\n",
       "      <td>5</td>\n",
       "      <td>0.574075</td>\n",
       "      <td>-0.764269</td>\n",
       "      <td>0.241956</td>\n",
       "    </tr>\n",
       "  </tbody>\n",
       "</table>\n",
       "</div>"
      ],
      "text/plain": [
       "       prca      prcw  qtya  qtyw  mon  tues  wed  thurs  speed2  wave2  \\\n",
       "0  0.622222  0.766667  1875  2205    1     0    0      0      15    7.5   \n",
       "1  0.972222  1.175000  2900   566    0     0    1      0      10    5.0   \n",
       "2  1.233333  1.475000   770  1525    0     0    0      1      10    6.0   \n",
       "3  1.928571  1.625000   927   943    0     0    0      0      15    6.0   \n",
       "4  0.803125  0.864286  4220  2665    1     0    0      0      10    3.5   \n",
       "\n",
       "   speed3  wave3    avgprc  totqty   lavgprc   ltotqty  t   lavgp_1   gavgprc  \\\n",
       "0      20    9.0  0.700286    4080 -0.356266  8.313852  1       NaN       NaN   \n",
       "1      20    7.5  1.005336    3466  0.005322  8.150757  2 -0.356266  0.361588   \n",
       "2      20    4.0  1.393918    2295  0.332118  7.738488  3  0.005322  0.326797   \n",
       "3      20    5.0  1.775487    1870  0.574075  7.533694  4  0.332118  0.241956   \n",
       "4      20    3.5  0.826799    6885 -0.190194  8.837100  5  0.574075 -0.764269   \n",
       "\n",
       "    gavgp_1  \n",
       "0       NaN  \n",
       "1       NaN  \n",
       "2  0.361588  \n",
       "3  0.326797  \n",
       "4  0.241956  "
      ]
     },
     "execution_count": 6,
     "metadata": {},
     "output_type": "execute_result"
    }
   ],
   "source": [
    "import wooldridge as woo\n",
    "df = woo.data(\"fish\")\n",
    "df.head()"
   ]
  },
  {
   "cell_type": "markdown",
   "id": "ae187e04-107a-4957-8921-a457e4868794",
   "metadata": {},
   "source": [
    "**1-1(5 points)**: Use OLS to obtain the estimates of $\\beta_s$, print the regression table "
   ]
  },
  {
   "cell_type": "code",
   "execution_count": 7,
   "id": "989806e4-58ad-413c-9694-a53cccb0d66e",
   "metadata": {
    "tags": []
   },
   "outputs": [
    {
     "name": "stdout",
     "output_type": "stream",
     "text": [
      "Intercept    8.244317\n",
      "lavgprc     -0.524655\n",
      "mon         -0.310927\n",
      "tues        -0.682790\n",
      "wed         -0.533894\n",
      "thurs        0.067227\n",
      "dtype: float64\n",
      "                            OLS Regression Results                            \n",
      "==============================================================================\n",
      "Dep. Variable:                ltotqty   R-squared:                       0.217\n",
      "Model:                            OLS   Adj. R-squared:                  0.174\n",
      "Method:                 Least Squares   F-statistic:                     5.039\n",
      "Date:                Thu, 16 Nov 2023   Prob (F-statistic):           0.000403\n",
      "Time:                        14:20:58   Log-Likelihood:                -99.253\n",
      "No. Observations:                  97   AIC:                             210.5\n",
      "Df Residuals:                      91   BIC:                             226.0\n",
      "Df Model:                           5                                         \n",
      "Covariance Type:            nonrobust                                         \n",
      "==============================================================================\n",
      "                 coef    std err          t      P>|t|      [0.025      0.975]\n",
      "------------------------------------------------------------------------------\n",
      "Intercept      8.2443      0.163     50.637      0.000       7.921       8.568\n",
      "lavgprc       -0.5247      0.176     -2.979      0.004      -0.874      -0.175\n",
      "mon           -0.3109      0.226     -1.377      0.172      -0.759       0.138\n",
      "tues          -0.6828      0.223     -3.066      0.003      -1.125      -0.240\n",
      "wed           -0.5339      0.220     -2.427      0.017      -0.971      -0.097\n",
      "thurs          0.0672      0.220      0.305      0.761      -0.371       0.505\n",
      "==============================================================================\n",
      "Omnibus:                       17.382   Durbin-Watson:                   1.498\n",
      "Prob(Omnibus):                  0.000   Jarque-Bera (JB):               24.915\n",
      "Skew:                          -0.824   Prob(JB):                     3.89e-06\n",
      "Kurtosis:                       4.857   Cond. No.                         5.94\n",
      "==============================================================================\n",
      "\n",
      "Notes:\n",
      "[1] Standard Errors assume that the covariance matrix of the errors is correctly specified.\n"
     ]
    }
   ],
   "source": [
    "import statsmodels.formula.api as smf\n",
    "reg = smf.ols(\"ltotqty ~ lavgprc + mon + tues + wed + thurs\", data = df)\n",
    "res = reg.fit()\n",
    "print(res.params)\n",
    "print(res.summary())"
   ]
  },
  {
   "cell_type": "markdown",
   "id": "76c62901-e2dc-4459-8ff1-a6c49e661a37",
   "metadata": {},
   "source": [
    "**1-2 (10 points)**: Clearly interpret the coefficient on log(avgprc)"
   ]
  },
  {
   "cell_type": "markdown",
   "id": "793bab02-09e8-4b65-ae65-2fa52b13f2cf",
   "metadata": {
    "tags": []
   },
   "source": [
    "with one more unit of increase in average price, the respondents total quantity sold is going to decrease -.5247 units. \n"
   ]
  },
  {
   "cell_type": "markdown",
   "id": "59162a50-e618-45ae-8be8-3b071d42a785",
   "metadata": {},
   "source": [
    "**1-3 (10 points)**: Is log(avgprc) a significant determinant of log(totqtr) and why?"
   ]
  },
  {
   "cell_type": "markdown",
   "id": "fedf4dae-aabb-4791-993c-8f293387799c",
   "metadata": {},
   "source": [
    "It is statiscally singnifcant since it is less than .05 there for it is confident"
   ]
  },
  {
   "cell_type": "markdown",
   "id": "da2f3762-8b3c-4fbf-917d-bc5d205e84b9",
   "metadata": {},
   "source": [
    "**1-4 (5 points)**: Draw the regression plot for log(totqty) on log(avgprc)"
   ]
  },
  {
   "cell_type": "code",
   "execution_count": 8,
   "id": "a244fe00-3b46-4ffa-84ec-183adde70fa3",
   "metadata": {
    "tags": []
   },
   "outputs": [
    {
     "data": {
      "image/png": "[encoded data removed]",
      "text/plain": [
       "<Figure size 640x480 with 1 Axes>"
      ]
     },
     "metadata": {},
     "output_type": "display_data"
    }
   ],
   "source": [
    "import seaborn as sns\n",
    "import matplotlib.pyplot as plt\n",
    "sns.regplot(x = \"lavgprc\", y = \"ltotqty\", data = df)\n",
    "plt.show()"
   ]
  },
  {
   "cell_type": "markdown",
   "id": "c5431e65-894f-4006-a4c3-9f197f84347e",
   "metadata": {},
   "source": [
    "**1-5 (10 points)**: Conduct an f-test on the hypothesis \"mon = 0, tues = 0, wed = 0, thurs = 0\". What conclusion can you draw?"
   ]
  },
  {
   "cell_type": "code",
   "execution_count": 9,
   "id": "a88a936f-649e-47c0-8218-aa8a24a2f34d",
   "metadata": {
    "tags": []
   },
   "outputs": [
    {
     "name": "stdout",
     "output_type": "stream",
     "text": [
      "<F test: F=4.319832990137934, p=0.003031024357433197, df_denom=91, df_num=4>\n"
     ]
    }
   ],
   "source": [
    "hypothesis = \"(mon = 0), (tues = 0),(wed = 0), (thurs = 0)\"\n",
    "print(res.f_test(hypothesis))"
   ]
  },
  {
   "cell_type": "markdown",
   "id": "fbff4cca-1cf2-45d3-ac43-25d02b268844",
   "metadata": {},
   "source": [
    "BC p value is smaller than .05 we will reject the null hypothesis. hypothesis is monday plays no role in total quantity sold, and tues, wed, thurs does not play a role in total quantity sold"
   ]
  },
  {
   "cell_type": "markdown",
   "id": "2e293f77-f0cc-4bd7-849b-1617f6828d56",
   "metadata": {},
   "source": [
    "**Question 2 - Omitted Variable Bias (25 points)**"
   ]
  },
  {
   "cell_type": "markdown",
   "id": "8dd533fc-ecae-4c94-99a6-5b6887f7b971",
   "metadata": {},
   "source": [
    "**2-1 (5 points)**: Import the data.csv file and print the first five rows of the dataset\n",
    "- Variables in the dataset are set as follows:\n",
    "    - x1 and x2 follow a multivariate normal distribution\n",
    "    - x3 follows a uniform distribution\n",
    "    - u follows a standard normal distribution\n",
    "    - y is generated as: $$ y = 1 + 1.5*x_1 + 2*x_2 + 3.5*x_3 + \\mu$$"
   ]
  },
  {
   "cell_type": "code",
   "execution_count": 40,
   "id": "19d78ab7-9d8e-4f70-94a7-ba1ca84e94b3",
   "metadata": {
    "tags": []
   },
   "outputs": [
    {
     "data": {
      "text/html": [
       "<div>\n",
       "<style scoped>\n",
       "    .dataframe tbody tr th:only-of-type {\n",
       "        vertical-align: middle;\n",
       "    }\n",
       "\n",
       "    .dataframe tbody tr th {\n",
       "        vertical-align: top;\n",
       "    }\n",
       "\n",
       "    .dataframe thead th {\n",
       "        text-align: right;\n",
       "    }\n",
       "</style>\n",
       "<table border=\"1\" class=\"dataframe\">\n",
       "  <thead>\n",
       "    <tr style=\"text-align: right;\">\n",
       "      <th></th>\n",
       "      <th>x1</th>\n",
       "      <th>x2</th>\n",
       "      <th>x3</th>\n",
       "      <th>u</th>\n",
       "      <th>y</th>\n",
       "    </tr>\n",
       "  </thead>\n",
       "  <tbody>\n",
       "    <tr>\n",
       "      <th>0</th>\n",
       "      <td>2.057697</td>\n",
       "      <td>7.030958</td>\n",
       "      <td>0.365311</td>\n",
       "      <td>-1.008496</td>\n",
       "      <td>21.934030</td>\n",
       "    </tr>\n",
       "    <tr>\n",
       "      <th>1</th>\n",
       "      <td>0.123248</td>\n",
       "      <td>5.147403</td>\n",
       "      <td>0.723239</td>\n",
       "      <td>0.368550</td>\n",
       "      <td>16.953266</td>\n",
       "    </tr>\n",
       "    <tr>\n",
       "      <th>2</th>\n",
       "      <td>1.166863</td>\n",
       "      <td>6.758002</td>\n",
       "      <td>1.203740</td>\n",
       "      <td>0.111503</td>\n",
       "      <td>23.969895</td>\n",
       "    </tr>\n",
       "    <tr>\n",
       "      <th>3</th>\n",
       "      <td>2.824675</td>\n",
       "      <td>6.940899</td>\n",
       "      <td>1.420139</td>\n",
       "      <td>1.510180</td>\n",
       "      <td>29.069927</td>\n",
       "    </tr>\n",
       "    <tr>\n",
       "      <th>4</th>\n",
       "      <td>-0.305167</td>\n",
       "      <td>3.245195</td>\n",
       "      <td>0.695617</td>\n",
       "      <td>-2.297547</td>\n",
       "      <td>8.792348</td>\n",
       "    </tr>\n",
       "  </tbody>\n",
       "</table>\n",
       "</div>"
      ],
      "text/plain": [
       "         x1        x2        x3         u          y\n",
       "0  2.057697  7.030958  0.365311 -1.008496  21.934030\n",
       "1  0.123248  5.147403  0.723239  0.368550  16.953266\n",
       "2  1.166863  6.758002  1.203740  0.111503  23.969895\n",
       "3  2.824675  6.940899  1.420139  1.510180  29.069927\n",
       "4 -0.305167  3.245195  0.695617 -2.297547   8.792348"
      ]
     },
     "execution_count": 40,
     "metadata": {},
     "output_type": "execute_result"
    }
   ],
   "source": [
    "import pandas as pd\n",
    "df = pd.read_csv(\"data.csv\")\n",
    "df.head()"
   ]
  },
  {
   "cell_type": "code",
   "execution_count": 58,
   "id": "87305183-c36a-49eb-84b4-b241e00a7384",
   "metadata": {
    "tags": []
   },
   "outputs": [
    {
     "data": {
      "text/html": [
       "<div>\n",
       "<style scoped>\n",
       "    .dataframe tbody tr th:only-of-type {\n",
       "        vertical-align: middle;\n",
       "    }\n",
       "\n",
       "    .dataframe tbody tr th {\n",
       "        vertical-align: top;\n",
       "    }\n",
       "\n",
       "    .dataframe thead th {\n",
       "        text-align: right;\n",
       "    }\n",
       "</style>\n",
       "<table border=\"1\" class=\"dataframe\">\n",
       "  <thead>\n",
       "    <tr style=\"text-align: right;\">\n",
       "      <th></th>\n",
       "      <th>x1</th>\n",
       "      <th>x2</th>\n",
       "      <th>x3</th>\n",
       "      <th>u</th>\n",
       "      <th>y</th>\n",
       "    </tr>\n",
       "  </thead>\n",
       "  <tbody>\n",
       "    <tr>\n",
       "      <th>0</th>\n",
       "      <td>-1.063260</td>\n",
       "      <td>2.691395</td>\n",
       "      <td>4.753198</td>\n",
       "      <td>0.296370</td>\n",
       "      <td>21.720462</td>\n",
       "    </tr>\n",
       "    <tr>\n",
       "      <th>1</th>\n",
       "      <td>-2.121900</td>\n",
       "      <td>2.982724</td>\n",
       "      <td>7.482920</td>\n",
       "      <td>0.000008</td>\n",
       "      <td>29.972827</td>\n",
       "    </tr>\n",
       "    <tr>\n",
       "      <th>2</th>\n",
       "      <td>2.801666</td>\n",
       "      <td>9.252892</td>\n",
       "      <td>1.001029</td>\n",
       "      <td>-0.034211</td>\n",
       "      <td>27.177675</td>\n",
       "    </tr>\n",
       "    <tr>\n",
       "      <th>3</th>\n",
       "      <td>0.361978</td>\n",
       "      <td>5.154109</td>\n",
       "      <td>3.720993</td>\n",
       "      <td>-0.281499</td>\n",
       "      <td>24.593161</td>\n",
       "    </tr>\n",
       "    <tr>\n",
       "      <th>4</th>\n",
       "      <td>-0.120881</td>\n",
       "      <td>8.163531</td>\n",
       "      <td>2.320803</td>\n",
       "      <td>0.580178</td>\n",
       "      <td>25.848728</td>\n",
       "    </tr>\n",
       "  </tbody>\n",
       "</table>\n",
       "</div>"
      ],
      "text/plain": [
       "         x1        x2        x3         u          y\n",
       "0 -1.063260  2.691395  4.753198  0.296370  21.720462\n",
       "1 -2.121900  2.982724  7.482920  0.000008  29.972827\n",
       "2  2.801666  9.252892  1.001029 -0.034211  27.177675\n",
       "3  0.361978  5.154109  3.720993 -0.281499  24.593161\n",
       "4 -0.120881  8.163531  2.320803  0.580178  25.848728"
      ]
     },
     "execution_count": 58,
     "metadata": {},
     "output_type": "execute_result"
    }
   ],
   "source": [
    "import numpy as np\n",
    "import pandas as pd\n",
    "np.random.seed(1)\n",
    "x3 = np.random.uniform(1, 10, 1000)\n",
    "x12 = np.random.multivariate_normal([0, 5], [[4, 5], [5, 9]], 1000)\n",
    "u = np.random.randn(1000)\n",
    "df = pd.DataFrame({\"x1\": x12[:, 0], \"x2\": x12[:, 1], \"x3\": x3, \"u\": u})\n",
    "df.head()\n",
    "df[\"y\"] = 1 + 1.5*df[\"x1\"] + 2*df[\"x2\"] + 3.5*df[\"x3\"] + df[\"u\"]\n",
    "df.head()"
   ]
  },
  {
   "cell_type": "code",
   "execution_count": 57,
   "id": "6f467110-d4f2-4952-8b07-2bb5af3f0094",
   "metadata": {
    "tags": []
   },
   "outputs": [
    {
     "name": "stdout",
     "output_type": "stream",
     "text": [
      "Intercept    0.948779\n",
      "x1           1.521681\n",
      "x2           1.994631\n",
      "x3           3.511834\n",
      "dtype: float64\n",
      "Intercept    0.120218\n",
      "x1           0.028554\n",
      "x2           0.018871\n",
      "x3           0.011984\n",
      "dtype: float64\n",
      "Intercept      7.892184\n",
      "x1            53.290941\n",
      "x2           105.695655\n",
      "x3           293.035422\n",
      "dtype: float64\n"
     ]
    }
   ],
   "source": [
    "import statsmodels.formula.api as smf \n",
    "reg = smf.ols(\"y~x1+x2+x3\", data = df) \n",
    "res = reg.fit()\n",
    "print(res.params)\n",
    "print(res.bse)\n",
    "print(res.tvalues)"
   ]
  },
  {
   "cell_type": "code",
   "execution_count": null,
   "id": "7822ca84-2dbc-4766-94cf-348ef5a248c4",
   "metadata": {
    "tags": []
   },
   "outputs": [],
   "source": [
    "import numpy as np\n",
    "df = woo.data(\"data\")\n",
    "df = df.dropna(subset = [\"x1\"])"
   ]
  },
  {
   "cell_type": "markdown",
   "id": "acfe6b6a-624c-436b-a340-4fc7fe9527e7",
   "metadata": {},
   "source": [
    "**2-2 (5 points)**: Estimate $ y = \\beta_0 + \\beta_1*x_1 + \\beta_2*x_2$ and $ y = \\beta_0 + \\beta_1*x_1 + \\beta_3*x_3$"
   ]
  },
  {
   "cell_type": "code",
   "execution_count": null,
   "id": "0265aacd-2ba6-4843-a705-d503ac7641f5",
   "metadata": {
    "tags": []
   },
   "outputs": [],
   "source": [
    "reg_ovb = smf.ols(\"y~x1+x2\", data = df)\n",
    "res_ovb = reg_ovb.fit()\n",
    "print(res_ovb.params)\n",
    "print(res_ovb.bse)\n",
    "print(res_ovb.tvalues)"
   ]
  },
  {
   "cell_type": "code",
   "execution_count": null,
   "id": "da494387-bcab-483c-ab3c-771d25f17329",
   "metadata": {
    "tags": []
   },
   "outputs": [],
   "source": [
    "reg_ovb = smf.ols(\"y~x1+x3\", data = df)\n",
    "res_ovb = reg_ovb.fit()\n",
    "print(res_ovb.params)\n",
    "print(res_ovb.bse)\n",
    "print(res_ovb.tvalues)"
   ]
  },
  {
   "cell_type": "code",
   "execution_count": 43,
   "id": "aa9ce96e-20fb-467f-b0f6-e92c6d5699e3",
   "metadata": {
    "tags": []
   },
   "outputs": [
    {
     "name": "stdout",
     "output_type": "stream",
     "text": [
      "1.0\n",
      "Intercept    8.244317\n",
      "lavgprc     -0.524655\n",
      "mon         -0.310927\n",
      "tues        -0.682790\n",
      "wed         -0.533894\n",
      "thurs        0.067227\n",
      "dtype: float64\n"
     ]
    }
   ],
   "source": [
    "import numpy as np\n",
    "cov_yz = np.cov(df[\"x1\"], df[\"x2\"])[0, 1] \n",
    "cov_xz = np.cov(df[\"x1\"], df[\"x2\"])[0, 1] \n",
    "beta_iv = cov_yz / cov_xz\n",
    "print(beta_iv)\n",
    "print(res.params)"
   ]
  },
  {
   "cell_type": "code",
   "execution_count": 44,
   "id": "0ab8540b-7292-4ddc-9f12-c3434a2cb4d1",
   "metadata": {
    "tags": []
   },
   "outputs": [
    {
     "name": "stdout",
     "output_type": "stream",
     "text": [
      "1.0\n",
      "Intercept    8.244317\n",
      "lavgprc     -0.524655\n",
      "mon         -0.310927\n",
      "tues        -0.682790\n",
      "wed         -0.533894\n",
      "thurs        0.067227\n",
      "dtype: float64\n"
     ]
    }
   ],
   "source": [
    "import numpy as np\n",
    "cov_yz = np.cov(df[\"x1\"], df[\"x3\"])[0, 1] \n",
    "cov_xz = np.cov(df[\"x1\"], df[\"x3\"])[0, 1] \n",
    "beta_iv = cov_yz / cov_xz\n",
    "print(beta_iv)\n",
    "print(res.params)"
   ]
  },
  {
   "cell_type": "markdown",
   "id": "1614a078-137d-4eb2-8413-71b830d6539b",
   "metadata": {},
   "source": [
    "**2-3 (15 points)**: Print the estimated coefficients from both regressions. Discuss which regression is supposed to have omitted variable bias and which is not and why? Are your estimates consistent with your assumption?"
   ]
  },
  {
   "cell_type": "code",
   "execution_count": 12,
   "id": "e3d48798-416b-4dae-b345-b0cd7bb56bd5",
   "metadata": {
    "tags": []
   },
   "outputs": [
    {
     "name": "stdout",
     "output_type": "stream",
     "text": [
      "Intercept   -4.649839\n",
      "x2           4.119959\n",
      "x3           4.004466\n",
      "dtype: float64\n",
      "Intercept    0.222300\n",
      "x2           0.024977\n",
      "x3           0.029420\n",
      "dtype: float64\n",
      "Intercept    -20.916933\n",
      "x2           164.951253\n",
      "x3           136.112789\n",
      "dtype: float64\n"
     ]
    }
   ],
   "source": [
    "reg_ovb = smf.ols(\"y~x2+x3\", data = df)\n",
    "res_ovb = reg_ovb.fit()\n",
    "print(res_ovb.params)\n",
    "print(res_ovb.bse)\n",
    "print(res_ovb.tvalues)"
   ]
  },
  {
   "cell_type": "markdown",
   "id": "95b32763-c7b1-4e1d-9880-0648fede66e2",
   "metadata": {},
   "source": [
    "omitted vairable has to be correlated with the variable of inteserst. the omitted vairable must impact y. omitting x2 will create bias on x1. \n",
    "\n",
    "Explain why its over estimating. If the product of those to determintents are negative it will cause underestimation. Opposite is true\n",
    "\n",
    "Omitted variable is x2 than determinance is x2 adn x1. b2 x2 - y. if this is posititve it will show overestimation.\n",
    "\n",
    "If two vairables are genereated from two separate distribution then they are not correlated if they follow multivaraite normal distribution then they are correlated.\n",
    "\n",
    "we see that we omitted x3 which is not correlated bc of the original equation above. the U thing. therefore when x3 is omitted there is little to no bias because x3 does not correlate.\n",
    "\n",
    "see that x1 is ommitted and it is a positive. it is also overestimated becasue B is also positive."
   ]
  },
  {
   "cell_type": "markdown",
   "id": "a13b86e5-3c2f-4ae3-84bf-f093d09d9547",
   "metadata": {},
   "source": [
    "**Question 3 - Regularization (35 points)**\n",
    "- We will use \"wage2\" dataset from wooldridge package to estimate determinants of montyly earnings\n",
    "- The dataset contain variables as:\n",
    "    - wage: monthly earnings\n",
    "    - hours: average weekly hours\n",
    "    - IQ: IQ score\n",
    "    - KWW: knowledge of world work score\n",
    "    - educ: years of work experience\n",
    "    - age: age in years\n",
    "    - meduc: mother's education\n",
    "    - feduc: father's education"
   ]
  },
  {
   "cell_type": "code",
   "execution_count": 48,
   "id": "b6638d04-2f67-4ecb-8249-c5006394e0fb",
   "metadata": {
    "tags": []
   },
   "outputs": [
    {
     "data": {
      "text/html": [
       "<div>\n",
       "<style scoped>\n",
       "    .dataframe tbody tr th:only-of-type {\n",
       "        vertical-align: middle;\n",
       "    }\n",
       "\n",
       "    .dataframe tbody tr th {\n",
       "        vertical-align: top;\n",
       "    }\n",
       "\n",
       "    .dataframe thead th {\n",
       "        text-align: right;\n",
       "    }\n",
       "</style>\n",
       "<table border=\"1\" class=\"dataframe\">\n",
       "  <thead>\n",
       "    <tr style=\"text-align: right;\">\n",
       "      <th></th>\n",
       "      <th>wage</th>\n",
       "      <th>hours</th>\n",
       "      <th>IQ</th>\n",
       "      <th>KWW</th>\n",
       "      <th>educ</th>\n",
       "      <th>exper</th>\n",
       "      <th>tenure</th>\n",
       "      <th>age</th>\n",
       "      <th>married</th>\n",
       "      <th>black</th>\n",
       "      <th>south</th>\n",
       "      <th>urban</th>\n",
       "      <th>sibs</th>\n",
       "      <th>brthord</th>\n",
       "      <th>meduc</th>\n",
       "      <th>feduc</th>\n",
       "      <th>lwage</th>\n",
       "    </tr>\n",
       "  </thead>\n",
       "  <tbody>\n",
       "    <tr>\n",
       "      <th>0</th>\n",
       "      <td>769</td>\n",
       "      <td>40</td>\n",
       "      <td>93</td>\n",
       "      <td>35</td>\n",
       "      <td>12</td>\n",
       "      <td>11</td>\n",
       "      <td>2</td>\n",
       "      <td>31</td>\n",
       "      <td>1</td>\n",
       "      <td>0</td>\n",
       "      <td>0</td>\n",
       "      <td>1</td>\n",
       "      <td>1</td>\n",
       "      <td>2.0</td>\n",
       "      <td>8.0</td>\n",
       "      <td>8.0</td>\n",
       "      <td>6.645091</td>\n",
       "    </tr>\n",
       "    <tr>\n",
       "      <th>1</th>\n",
       "      <td>808</td>\n",
       "      <td>50</td>\n",
       "      <td>119</td>\n",
       "      <td>41</td>\n",
       "      <td>18</td>\n",
       "      <td>11</td>\n",
       "      <td>16</td>\n",
       "      <td>37</td>\n",
       "      <td>1</td>\n",
       "      <td>0</td>\n",
       "      <td>0</td>\n",
       "      <td>1</td>\n",
       "      <td>1</td>\n",
       "      <td>NaN</td>\n",
       "      <td>14.0</td>\n",
       "      <td>14.0</td>\n",
       "      <td>6.694562</td>\n",
       "    </tr>\n",
       "    <tr>\n",
       "      <th>2</th>\n",
       "      <td>825</td>\n",
       "      <td>40</td>\n",
       "      <td>108</td>\n",
       "      <td>46</td>\n",
       "      <td>14</td>\n",
       "      <td>11</td>\n",
       "      <td>9</td>\n",
       "      <td>33</td>\n",
       "      <td>1</td>\n",
       "      <td>0</td>\n",
       "      <td>0</td>\n",
       "      <td>1</td>\n",
       "      <td>1</td>\n",
       "      <td>2.0</td>\n",
       "      <td>14.0</td>\n",
       "      <td>14.0</td>\n",
       "      <td>6.715384</td>\n",
       "    </tr>\n",
       "    <tr>\n",
       "      <th>3</th>\n",
       "      <td>650</td>\n",
       "      <td>40</td>\n",
       "      <td>96</td>\n",
       "      <td>32</td>\n",
       "      <td>12</td>\n",
       "      <td>13</td>\n",
       "      <td>7</td>\n",
       "      <td>32</td>\n",
       "      <td>1</td>\n",
       "      <td>0</td>\n",
       "      <td>0</td>\n",
       "      <td>1</td>\n",
       "      <td>4</td>\n",
       "      <td>3.0</td>\n",
       "      <td>12.0</td>\n",
       "      <td>12.0</td>\n",
       "      <td>6.476973</td>\n",
       "    </tr>\n",
       "    <tr>\n",
       "      <th>4</th>\n",
       "      <td>562</td>\n",
       "      <td>40</td>\n",
       "      <td>74</td>\n",
       "      <td>27</td>\n",
       "      <td>11</td>\n",
       "      <td>14</td>\n",
       "      <td>5</td>\n",
       "      <td>34</td>\n",
       "      <td>1</td>\n",
       "      <td>0</td>\n",
       "      <td>0</td>\n",
       "      <td>1</td>\n",
       "      <td>10</td>\n",
       "      <td>6.0</td>\n",
       "      <td>6.0</td>\n",
       "      <td>11.0</td>\n",
       "      <td>6.331502</td>\n",
       "    </tr>\n",
       "  </tbody>\n",
       "</table>\n",
       "</div>"
      ],
      "text/plain": [
       "   wage  hours   IQ  KWW  educ  exper  tenure  age  married  black  south  \\\n",
       "0   769     40   93   35    12     11       2   31        1      0      0   \n",
       "1   808     50  119   41    18     11      16   37        1      0      0   \n",
       "2   825     40  108   46    14     11       9   33        1      0      0   \n",
       "3   650     40   96   32    12     13       7   32        1      0      0   \n",
       "4   562     40   74   27    11     14       5   34        1      0      0   \n",
       "\n",
       "   urban  sibs  brthord  meduc  feduc     lwage  \n",
       "0      1     1      2.0    8.0    8.0  6.645091  \n",
       "1      1     1      NaN   14.0   14.0  6.694562  \n",
       "2      1     1      2.0   14.0   14.0  6.715384  \n",
       "3      1     4      3.0   12.0   12.0  6.476973  \n",
       "4      1    10      6.0    6.0   11.0  6.331502  "
      ]
     },
     "execution_count": 48,
     "metadata": {},
     "output_type": "execute_result"
    }
   ],
   "source": [
    "import wooldridge as woo\n",
    "df = woo.data(\"wage2\")\n",
    "df.head()"
   ]
  },
  {
   "cell_type": "markdown",
   "id": "5e1e40ef-0dec-4b02-9291-4aa4f363c4fa",
   "metadata": {},
   "source": [
    "**3-1 (5 points)**: Use wage as dependent variable, and all the variables mentioned above as independent variables to estimate a ridge regression with tuninig parameter $\\alpha = 10$"
   ]
  },
  {
   "cell_type": "code",
   "execution_count": 49,
   "id": "cf27905d-a17c-4462-b784-89ab7bb8025c",
   "metadata": {
    "tags": []
   },
   "outputs": [],
   "source": [
    "X = df[[\"hours\", \"IQ\", \"KWW\", \"educ\", \"age\", \"meduc\", \"feduc\"]]\n",
    "y= df[\"wage\"]"
   ]
  },
  {
   "cell_type": "code",
   "execution_count": 50,
   "id": "b07a8635-6615-4e1f-92d3-614d17febf9d",
   "metadata": {
    "tags": []
   },
   "outputs": [
    {
     "ename": "ValueError",
     "evalue": "Input X contains NaN.\nRidge does not accept missing values encoded as NaN natively. For supervised learning, you might want to consider sklearn.ensemble.HistGradientBoostingClassifier and Regressor which accept missing values encoded as NaNs natively. Alternatively, it is possible to preprocess the data, for instance by using an imputer transformer in a pipeline or drop samples with missing values. See https://scikit-learn.org/stable/modules/impute.html You can find a list of all estimators that handle NaN values at the following page: https://scikit-learn.org/stable/modules/impute.html#estimators-that-handle-nan-values",
     "output_type": "error",
     "traceback": [
      "\u001b[0;31m---------------------------------------------------------------------------\u001b[0m",
      "\u001b[0;31mValueError\u001b[0m                                Traceback (most recent call last)",
      "Cell \u001b[0;32mIn[50], line 3\u001b[0m\n\u001b[1;32m      1\u001b[0m \u001b[38;5;28;01mimport\u001b[39;00m \u001b[38;5;21;01msklearn\u001b[39;00m\u001b[38;5;21;01m.\u001b[39;00m\u001b[38;5;21;01mlinear_model\u001b[39;00m \u001b[38;5;28;01mas\u001b[39;00m \u001b[38;5;21;01mslm\u001b[39;00m\n\u001b[1;32m      2\u001b[0m reg \u001b[38;5;241m=\u001b[39m slm\u001b[38;5;241m.\u001b[39mRidge(alpha \u001b[38;5;241m=\u001b[39m \u001b[38;5;241m10\u001b[39m, fit_intercept \u001b[38;5;241m=\u001b[39m \u001b[38;5;28;01mFalse\u001b[39;00m)\n\u001b[0;32m----> 3\u001b[0m reg\u001b[38;5;241m.\u001b[39mfit(X, y)\n\u001b[1;32m      4\u001b[0m \u001b[38;5;28mprint\u001b[39m(reg\u001b[38;5;241m.\u001b[39mcoef_)\n",
      "File \u001b[0;32m~/anaconda3/lib/python3.11/site-packages/sklearn/base.py:1151\u001b[0m, in \u001b[0;36m_fit_context.<locals>.decorator.<locals>.wrapper\u001b[0;34m(estimator, *args, **kwargs)\u001b[0m\n\u001b[1;32m   1144\u001b[0m     estimator\u001b[38;5;241m.\u001b[39m_validate_params()\n\u001b[1;32m   1146\u001b[0m \u001b[38;5;28;01mwith\u001b[39;00m config_context(\n\u001b[1;32m   1147\u001b[0m     skip_parameter_validation\u001b[38;5;241m=\u001b[39m(\n\u001b[1;32m   1148\u001b[0m         prefer_skip_nested_validation \u001b[38;5;129;01mor\u001b[39;00m global_skip_validation\n\u001b[1;32m   1149\u001b[0m     )\n\u001b[1;32m   1150\u001b[0m ):\n\u001b[0;32m-> 1151\u001b[0m     \u001b[38;5;28;01mreturn\u001b[39;00m fit_method(estimator, \u001b[38;5;241m*\u001b[39margs, \u001b[38;5;241m*\u001b[39m\u001b[38;5;241m*\u001b[39mkwargs)\n",
      "File \u001b[0;32m~/anaconda3/lib/python3.11/site-packages/sklearn/linear_model/_ridge.py:1134\u001b[0m, in \u001b[0;36mRidge.fit\u001b[0;34m(self, X, y, sample_weight)\u001b[0m\n\u001b[1;32m   1114\u001b[0m \u001b[38;5;250m\u001b[39m\u001b[38;5;124;03m\"\"\"Fit Ridge regression model.\u001b[39;00m\n\u001b[1;32m   1115\u001b[0m \n\u001b[1;32m   1116\u001b[0m \u001b[38;5;124;03mParameters\u001b[39;00m\n\u001b[0;32m   (...)\u001b[0m\n\u001b[1;32m   1131\u001b[0m \u001b[38;5;124;03m    Fitted estimator.\u001b[39;00m\n\u001b[1;32m   1132\u001b[0m \u001b[38;5;124;03m\"\"\"\u001b[39;00m\n\u001b[1;32m   1133\u001b[0m _accept_sparse \u001b[38;5;241m=\u001b[39m _get_valid_accept_sparse(sparse\u001b[38;5;241m.\u001b[39missparse(X), \u001b[38;5;28mself\u001b[39m\u001b[38;5;241m.\u001b[39msolver)\n\u001b[0;32m-> 1134\u001b[0m X, y \u001b[38;5;241m=\u001b[39m \u001b[38;5;28mself\u001b[39m\u001b[38;5;241m.\u001b[39m_validate_data(\n\u001b[1;32m   1135\u001b[0m     X,\n\u001b[1;32m   1136\u001b[0m     y,\n\u001b[1;32m   1137\u001b[0m     accept_sparse\u001b[38;5;241m=\u001b[39m_accept_sparse,\n\u001b[1;32m   1138\u001b[0m     dtype\u001b[38;5;241m=\u001b[39m[np\u001b[38;5;241m.\u001b[39mfloat64, np\u001b[38;5;241m.\u001b[39mfloat32],\n\u001b[1;32m   1139\u001b[0m     multi_output\u001b[38;5;241m=\u001b[39m\u001b[38;5;28;01mTrue\u001b[39;00m,\n\u001b[1;32m   1140\u001b[0m     y_numeric\u001b[38;5;241m=\u001b[39m\u001b[38;5;28;01mTrue\u001b[39;00m,\n\u001b[1;32m   1141\u001b[0m )\n\u001b[1;32m   1142\u001b[0m \u001b[38;5;28;01mreturn\u001b[39;00m \u001b[38;5;28msuper\u001b[39m()\u001b[38;5;241m.\u001b[39mfit(X, y, sample_weight\u001b[38;5;241m=\u001b[39msample_weight)\n",
      "File \u001b[0;32m~/anaconda3/lib/python3.11/site-packages/sklearn/base.py:621\u001b[0m, in \u001b[0;36mBaseEstimator._validate_data\u001b[0;34m(self, X, y, reset, validate_separately, cast_to_ndarray, **check_params)\u001b[0m\n\u001b[1;32m    619\u001b[0m         y \u001b[38;5;241m=\u001b[39m check_array(y, input_name\u001b[38;5;241m=\u001b[39m\u001b[38;5;124m\"\u001b[39m\u001b[38;5;124my\u001b[39m\u001b[38;5;124m\"\u001b[39m, \u001b[38;5;241m*\u001b[39m\u001b[38;5;241m*\u001b[39mcheck_y_params)\n\u001b[1;32m    620\u001b[0m     \u001b[38;5;28;01melse\u001b[39;00m:\n\u001b[0;32m--> 621\u001b[0m         X, y \u001b[38;5;241m=\u001b[39m check_X_y(X, y, \u001b[38;5;241m*\u001b[39m\u001b[38;5;241m*\u001b[39mcheck_params)\n\u001b[1;32m    622\u001b[0m     out \u001b[38;5;241m=\u001b[39m X, y\n\u001b[1;32m    624\u001b[0m \u001b[38;5;28;01mif\u001b[39;00m \u001b[38;5;129;01mnot\u001b[39;00m no_val_X \u001b[38;5;129;01mand\u001b[39;00m check_params\u001b[38;5;241m.\u001b[39mget(\u001b[38;5;124m\"\u001b[39m\u001b[38;5;124mensure_2d\u001b[39m\u001b[38;5;124m\"\u001b[39m, \u001b[38;5;28;01mTrue\u001b[39;00m):\n",
      "File \u001b[0;32m~/anaconda3/lib/python3.11/site-packages/sklearn/utils/validation.py:1147\u001b[0m, in \u001b[0;36mcheck_X_y\u001b[0;34m(X, y, accept_sparse, accept_large_sparse, dtype, order, copy, force_all_finite, ensure_2d, allow_nd, multi_output, ensure_min_samples, ensure_min_features, y_numeric, estimator)\u001b[0m\n\u001b[1;32m   1142\u001b[0m         estimator_name \u001b[38;5;241m=\u001b[39m _check_estimator_name(estimator)\n\u001b[1;32m   1143\u001b[0m     \u001b[38;5;28;01mraise\u001b[39;00m \u001b[38;5;167;01mValueError\u001b[39;00m(\n\u001b[1;32m   1144\u001b[0m         \u001b[38;5;124mf\u001b[39m\u001b[38;5;124m\"\u001b[39m\u001b[38;5;132;01m{\u001b[39;00mestimator_name\u001b[38;5;132;01m}\u001b[39;00m\u001b[38;5;124m requires y to be passed, but the target y is None\u001b[39m\u001b[38;5;124m\"\u001b[39m\n\u001b[1;32m   1145\u001b[0m     )\n\u001b[0;32m-> 1147\u001b[0m X \u001b[38;5;241m=\u001b[39m check_array(\n\u001b[1;32m   1148\u001b[0m     X,\n\u001b[1;32m   1149\u001b[0m     accept_sparse\u001b[38;5;241m=\u001b[39maccept_sparse,\n\u001b[1;32m   1150\u001b[0m     accept_large_sparse\u001b[38;5;241m=\u001b[39maccept_large_sparse,\n\u001b[1;32m   1151\u001b[0m     dtype\u001b[38;5;241m=\u001b[39mdtype,\n\u001b[1;32m   1152\u001b[0m     order\u001b[38;5;241m=\u001b[39morder,\n\u001b[1;32m   1153\u001b[0m     copy\u001b[38;5;241m=\u001b[39mcopy,\n\u001b[1;32m   1154\u001b[0m     force_all_finite\u001b[38;5;241m=\u001b[39mforce_all_finite,\n\u001b[1;32m   1155\u001b[0m     ensure_2d\u001b[38;5;241m=\u001b[39mensure_2d,\n\u001b[1;32m   1156\u001b[0m     allow_nd\u001b[38;5;241m=\u001b[39mallow_nd,\n\u001b[1;32m   1157\u001b[0m     ensure_min_samples\u001b[38;5;241m=\u001b[39mensure_min_samples,\n\u001b[1;32m   1158\u001b[0m     ensure_min_features\u001b[38;5;241m=\u001b[39mensure_min_features,\n\u001b[1;32m   1159\u001b[0m     estimator\u001b[38;5;241m=\u001b[39mestimator,\n\u001b[1;32m   1160\u001b[0m     input_name\u001b[38;5;241m=\u001b[39m\u001b[38;5;124m\"\u001b[39m\u001b[38;5;124mX\u001b[39m\u001b[38;5;124m\"\u001b[39m,\n\u001b[1;32m   1161\u001b[0m )\n\u001b[1;32m   1163\u001b[0m y \u001b[38;5;241m=\u001b[39m _check_y(y, multi_output\u001b[38;5;241m=\u001b[39mmulti_output, y_numeric\u001b[38;5;241m=\u001b[39my_numeric, estimator\u001b[38;5;241m=\u001b[39mestimator)\n\u001b[1;32m   1165\u001b[0m check_consistent_length(X, y)\n",
      "File \u001b[0;32m~/anaconda3/lib/python3.11/site-packages/sklearn/utils/validation.py:959\u001b[0m, in \u001b[0;36mcheck_array\u001b[0;34m(array, accept_sparse, accept_large_sparse, dtype, order, copy, force_all_finite, ensure_2d, allow_nd, ensure_min_samples, ensure_min_features, estimator, input_name)\u001b[0m\n\u001b[1;32m    953\u001b[0m         \u001b[38;5;28;01mraise\u001b[39;00m \u001b[38;5;167;01mValueError\u001b[39;00m(\n\u001b[1;32m    954\u001b[0m             \u001b[38;5;124m\"\u001b[39m\u001b[38;5;124mFound array with dim \u001b[39m\u001b[38;5;132;01m%d\u001b[39;00m\u001b[38;5;124m. \u001b[39m\u001b[38;5;132;01m%s\u001b[39;00m\u001b[38;5;124m expected <= 2.\u001b[39m\u001b[38;5;124m\"\u001b[39m\n\u001b[1;32m    955\u001b[0m             \u001b[38;5;241m%\u001b[39m (array\u001b[38;5;241m.\u001b[39mndim, estimator_name)\n\u001b[1;32m    956\u001b[0m         )\n\u001b[1;32m    958\u001b[0m     \u001b[38;5;28;01mif\u001b[39;00m force_all_finite:\n\u001b[0;32m--> 959\u001b[0m         _assert_all_finite(\n\u001b[1;32m    960\u001b[0m             array,\n\u001b[1;32m    961\u001b[0m             input_name\u001b[38;5;241m=\u001b[39minput_name,\n\u001b[1;32m    962\u001b[0m             estimator_name\u001b[38;5;241m=\u001b[39mestimator_name,\n\u001b[1;32m    963\u001b[0m             allow_nan\u001b[38;5;241m=\u001b[39mforce_all_finite \u001b[38;5;241m==\u001b[39m \u001b[38;5;124m\"\u001b[39m\u001b[38;5;124mallow-nan\u001b[39m\u001b[38;5;124m\"\u001b[39m,\n\u001b[1;32m    964\u001b[0m         )\n\u001b[1;32m    966\u001b[0m \u001b[38;5;28;01mif\u001b[39;00m ensure_min_samples \u001b[38;5;241m>\u001b[39m \u001b[38;5;241m0\u001b[39m:\n\u001b[1;32m    967\u001b[0m     n_samples \u001b[38;5;241m=\u001b[39m _num_samples(array)\n",
      "File \u001b[0;32m~/anaconda3/lib/python3.11/site-packages/sklearn/utils/validation.py:124\u001b[0m, in \u001b[0;36m_assert_all_finite\u001b[0;34m(X, allow_nan, msg_dtype, estimator_name, input_name)\u001b[0m\n\u001b[1;32m    121\u001b[0m \u001b[38;5;28;01mif\u001b[39;00m first_pass_isfinite:\n\u001b[1;32m    122\u001b[0m     \u001b[38;5;28;01mreturn\u001b[39;00m\n\u001b[0;32m--> 124\u001b[0m _assert_all_finite_element_wise(\n\u001b[1;32m    125\u001b[0m     X,\n\u001b[1;32m    126\u001b[0m     xp\u001b[38;5;241m=\u001b[39mxp,\n\u001b[1;32m    127\u001b[0m     allow_nan\u001b[38;5;241m=\u001b[39mallow_nan,\n\u001b[1;32m    128\u001b[0m     msg_dtype\u001b[38;5;241m=\u001b[39mmsg_dtype,\n\u001b[1;32m    129\u001b[0m     estimator_name\u001b[38;5;241m=\u001b[39mestimator_name,\n\u001b[1;32m    130\u001b[0m     input_name\u001b[38;5;241m=\u001b[39minput_name,\n\u001b[1;32m    131\u001b[0m )\n",
      "File \u001b[0;32m~/anaconda3/lib/python3.11/site-packages/sklearn/utils/validation.py:173\u001b[0m, in \u001b[0;36m_assert_all_finite_element_wise\u001b[0;34m(X, xp, allow_nan, msg_dtype, estimator_name, input_name)\u001b[0m\n\u001b[1;32m    156\u001b[0m \u001b[38;5;28;01mif\u001b[39;00m estimator_name \u001b[38;5;129;01mand\u001b[39;00m input_name \u001b[38;5;241m==\u001b[39m \u001b[38;5;124m\"\u001b[39m\u001b[38;5;124mX\u001b[39m\u001b[38;5;124m\"\u001b[39m \u001b[38;5;129;01mand\u001b[39;00m has_nan_error:\n\u001b[1;32m    157\u001b[0m     \u001b[38;5;66;03m# Improve the error message on how to handle missing values in\u001b[39;00m\n\u001b[1;32m    158\u001b[0m     \u001b[38;5;66;03m# scikit-learn.\u001b[39;00m\n\u001b[1;32m    159\u001b[0m     msg_err \u001b[38;5;241m+\u001b[39m\u001b[38;5;241m=\u001b[39m (\n\u001b[1;32m    160\u001b[0m         \u001b[38;5;124mf\u001b[39m\u001b[38;5;124m\"\u001b[39m\u001b[38;5;130;01m\\n\u001b[39;00m\u001b[38;5;132;01m{\u001b[39;00mestimator_name\u001b[38;5;132;01m}\u001b[39;00m\u001b[38;5;124m does not accept missing values\u001b[39m\u001b[38;5;124m\"\u001b[39m\n\u001b[1;32m    161\u001b[0m         \u001b[38;5;124m\"\u001b[39m\u001b[38;5;124m encoded as NaN natively. For supervised learning, you might want\u001b[39m\u001b[38;5;124m\"\u001b[39m\n\u001b[0;32m   (...)\u001b[0m\n\u001b[1;32m    171\u001b[0m         \u001b[38;5;124m\"\u001b[39m\u001b[38;5;124m#estimators-that-handle-nan-values\u001b[39m\u001b[38;5;124m\"\u001b[39m\n\u001b[1;32m    172\u001b[0m     )\n\u001b[0;32m--> 173\u001b[0m \u001b[38;5;28;01mraise\u001b[39;00m \u001b[38;5;167;01mValueError\u001b[39;00m(msg_err)\n",
      "\u001b[0;31mValueError\u001b[0m: Input X contains NaN.\nRidge does not accept missing values encoded as NaN natively. For supervised learning, you might want to consider sklearn.ensemble.HistGradientBoostingClassifier and Regressor which accept missing values encoded as NaNs natively. Alternatively, it is possible to preprocess the data, for instance by using an imputer transformer in a pipeline or drop samples with missing values. See https://scikit-learn.org/stable/modules/impute.html You can find a list of all estimators that handle NaN values at the following page: https://scikit-learn.org/stable/modules/impute.html#estimators-that-handle-nan-values"
     ]
    }
   ],
   "source": [
    "import sklearn.linear_model as slm\n",
    "reg = slm.Ridge(alpha = 10, fit_intercept = False)\n",
    "reg.fit(X, y)\n",
    "print(reg.coef_)"
   ]
  },
  {
   "cell_type": "markdown",
   "id": "b84bc4ec-0828-4239-bb20-c5cc56b8d04b",
   "metadata": {},
   "source": [
    "**3-2 (10 points)**: Explain the idea of k-fold cross-validation"
   ]
  },
  {
   "cell_type": "markdown",
   "id": "e9e94b2e-e71c-43e0-8b66-49197d832ba5",
   "metadata": {},
   "source": [
    "explain why u need to use cross validation. the idea of cross validation u will split your sample into 5 sub samples and have 5 iterations using 4 as a triaing sample and one as an evaluatino sample."
   ]
  },
  {
   "cell_type": "code",
   "execution_count": null,
   "id": "19cd9700-16ea-42ec-bd9c-3303c9917e4d",
   "metadata": {},
   "outputs": [],
   "source": []
  },
  {
   "cell_type": "markdown",
   "id": "2edd5048-3f99-4f53-9b49-5c1e8b55f283",
   "metadata": {},
   "source": [
    "**3-3 (10 points)**: Use 10-fold cross-validation with default scoring to find out the best $\\alpha$ between 1 and 200 (stepsize = 0.5)"
   ]
  },
  {
   "cell_type": "code",
   "execution_count": 51,
   "id": "78212d14-fb36-45c2-bf1c-f7d49a5febbc",
   "metadata": {
    "tags": []
   },
   "outputs": [
    {
     "name": "stdout",
     "output_type": "stream",
     "text": [
      "Fitting 10 folds for each of 10000 candidates, totalling 100000 fits\n"
     ]
    },
    {
     "data": {
      "text/html": [
       "<style>#sk-container-id-11 {color: black;}#sk-container-id-11 pre{padding: 0;}#sk-container-id-11 div.sk-toggleable {background-color: white;}#sk-container-id-11 label.sk-toggleable__label {cursor: pointer;display: block;width: 100%;margin-bottom: 0;padding: 0.3em;box-sizing: border-box;text-align: center;}#sk-container-id-11 label.sk-toggleable__label-arrow:before {content: \"▸\";float: left;margin-right: 0.25em;color: #696969;}#sk-container-id-11 label.sk-toggleable__label-arrow:hover:before {color: black;}#sk-container-id-11 div.sk-estimator:hover label.sk-toggleable__label-arrow:before {color: black;}#sk-container-id-11 div.sk-toggleable__content {max-height: 0;max-width: 0;overflow: hidden;text-align: left;background-color: #f0f8ff;}#sk-container-id-11 div.sk-toggleable__content pre {margin: 0.2em;color: black;border-radius: 0.25em;background-color: #f0f8ff;}#sk-container-id-11 input.sk-toggleable__control:checked~div.sk-toggleable__content {max-height: 200px;max-width: 100%;overflow: auto;}#sk-container-id-11 input.sk-toggleable__control:checked~label.sk-toggleable__label-arrow:before {content: \"▾\";}#sk-container-id-11 div.sk-estimator input.sk-toggleable__control:checked~label.sk-toggleable__label {background-color: #d4ebff;}#sk-container-id-11 div.sk-label input.sk-toggleable__control:checked~label.sk-toggleable__label {background-color: #d4ebff;}#sk-container-id-11 input.sk-hidden--visually {border: 0;clip: rect(1px 1px 1px 1px);clip: rect(1px, 1px, 1px, 1px);height: 1px;margin: -1px;overflow: hidden;padding: 0;position: absolute;width: 1px;}#sk-container-id-11 div.sk-estimator {font-family: monospace;background-color: #f0f8ff;border: 1px dotted black;border-radius: 0.25em;box-sizing: border-box;margin-bottom: 0.5em;}#sk-container-id-11 div.sk-estimator:hover {background-color: #d4ebff;}#sk-container-id-11 div.sk-parallel-item::after {content: \"\";width: 100%;border-bottom: 1px solid gray;flex-grow: 1;}#sk-container-id-11 div.sk-label:hover label.sk-toggleable__label {background-color: #d4ebff;}#sk-container-id-11 div.sk-serial::before {content: \"\";position: absolute;border-left: 1px solid gray;box-sizing: border-box;top: 0;bottom: 0;left: 50%;z-index: 0;}#sk-container-id-11 div.sk-serial {display: flex;flex-direction: column;align-items: center;background-color: white;padding-right: 0.2em;padding-left: 0.2em;position: relative;}#sk-container-id-11 div.sk-item {position: relative;z-index: 1;}#sk-container-id-11 div.sk-parallel {display: flex;align-items: stretch;justify-content: center;background-color: white;position: relative;}#sk-container-id-11 div.sk-item::before, #sk-container-id-11 div.sk-parallel-item::before {content: \"\";position: absolute;border-left: 1px solid gray;box-sizing: border-box;top: 0;bottom: 0;left: 50%;z-index: -1;}#sk-container-id-11 div.sk-parallel-item {display: flex;flex-direction: column;z-index: 1;position: relative;background-color: white;}#sk-container-id-11 div.sk-parallel-item:first-child::after {align-self: flex-end;width: 50%;}#sk-container-id-11 div.sk-parallel-item:last-child::after {align-self: flex-start;width: 50%;}#sk-container-id-11 div.sk-parallel-item:only-child::after {width: 0;}#sk-container-id-11 div.sk-dashed-wrapped {border: 1px dashed gray;margin: 0 0.4em 0.5em 0.4em;box-sizing: border-box;padding-bottom: 0.4em;background-color: white;}#sk-container-id-11 div.sk-label label {font-family: monospace;font-weight: bold;display: inline-block;line-height: 1.2em;}#sk-container-id-11 div.sk-label-container {text-align: center;}#sk-container-id-11 div.sk-container {/* jupyter's `normalize.less` sets `[hidden] { display: none; }` but bootstrap.min.css set `[hidden] { display: none !important; }` so we also need the `!important` here to be able to override the default hidden behavior on the sphinx rendered scikit-learn.org. See: https://github.com/scikit-learn/scikit-learn/issues/21755 */display: inline-block !important;position: relative;}#sk-container-id-11 div.sk-text-repr-fallback {display: none;}</style><div id=\"sk-container-id-11\" class=\"sk-top-container\"><div class=\"sk-text-repr-fallback\"><pre>GridSearchCV(cv=10, estimator=Ridge(),\n",
       "             param_grid={&#x27;alpha&#x27;: array([1000. , 1000.1, 1000.2, ..., 1999.7, 1999.8, 1999.9])},\n",
       "             scoring=&#x27;r2&#x27;, verbose=1)</pre><b>In a Jupyter environment, please rerun this cell to show the HTML representation or trust the notebook. <br />On GitHub, the HTML representation is unable to render, please try loading this page with nbviewer.org.</b></div><div class=\"sk-container\" hidden><div class=\"sk-item sk-dashed-wrapped\"><div class=\"sk-label-container\"><div class=\"sk-label sk-toggleable\"><input class=\"sk-toggleable__control sk-hidden--visually\" id=\"sk-estimator-id-31\" type=\"checkbox\" ><label for=\"sk-estimator-id-31\" class=\"sk-toggleable__label sk-toggleable__label-arrow\">GridSearchCV</label><div class=\"sk-toggleable__content\"><pre>GridSearchCV(cv=10, estimator=Ridge(),\n",
       "             param_grid={&#x27;alpha&#x27;: array([1000. , 1000.1, 1000.2, ..., 1999.7, 1999.8, 1999.9])},\n",
       "             scoring=&#x27;r2&#x27;, verbose=1)</pre></div></div></div><div class=\"sk-parallel\"><div class=\"sk-parallel-item\"><div class=\"sk-item\"><div class=\"sk-label-container\"><div class=\"sk-label sk-toggleable\"><input class=\"sk-toggleable__control sk-hidden--visually\" id=\"sk-estimator-id-32\" type=\"checkbox\" ><label for=\"sk-estimator-id-32\" class=\"sk-toggleable__label sk-toggleable__label-arrow\">estimator: Ridge</label><div class=\"sk-toggleable__content\"><pre>Ridge()</pre></div></div></div><div class=\"sk-serial\"><div class=\"sk-item\"><div class=\"sk-estimator sk-toggleable\"><input class=\"sk-toggleable__control sk-hidden--visually\" id=\"sk-estimator-id-33\" type=\"checkbox\" ><label for=\"sk-estimator-id-33\" class=\"sk-toggleable__label sk-toggleable__label-arrow\">Ridge</label><div class=\"sk-toggleable__content\"><pre>Ridge()</pre></div></div></div></div></div></div></div></div></div></div>"
      ],
      "text/plain": [
       "GridSearchCV(cv=10, estimator=Ridge(),\n",
       "             param_grid={'alpha': array([1000. , 1000.1, 1000.2, ..., 1999.7, 1999.8, 1999.9])},\n",
       "             scoring='r2', verbose=1)"
      ]
     },
     "execution_count": 51,
     "metadata": {},
     "output_type": "execute_result"
    }
   ],
   "source": [
    "import numpy as np\n",
    "import sklearn.model_selection as sm\n",
    "df = woo.data(\"wage2\")\n",
    "X = df[[\"hours\", \"IQ\"]]\n",
    "y= df[\"wage\"]\n",
    "reg = sm.GridSearchCV(estimator = slm.Ridge(),\n",
    "                     param_grid = {\"alpha\": np.arange(1000, 2000, 0.1)},\n",
    "                     cv = 10, scoring = \"r2\",\n",
    "                     verbose = 1)\n",
    "reg.fit(X, y)"
   ]
  },
  {
   "cell_type": "code",
   "execution_count": 52,
   "id": "bcc5a2e8-9123-47c9-af10-a724c500a226",
   "metadata": {
    "tags": []
   },
   "outputs": [
    {
     "name": "stdout",
     "output_type": "stream",
     "text": [
      "{'alpha': 1999.9000000002275}\n"
     ]
    }
   ],
   "source": [
    "print(reg.best_params_)"
   ]
  },
  {
   "cell_type": "markdown",
   "id": "6d48a94d-6a1a-485c-8b39-6a65ff2ffcb8",
   "metadata": {},
   "source": [
    "**3-4 (10 points)**: According to your results from last question, find out an even better $\\alpha$ and explain how to continue to figure out the **best** $\\alpha$"
   ]
  },
  {
   "cell_type": "markdown",
   "id": "217350e1-150c-439e-94e0-b980f870f6fa",
   "metadata": {},
   "source": [
    "if u want to shirnk params lowers it 1000, 2000, .1 to find a more accuarate/best alpha"
   ]
  },
  {
   "cell_type": "code",
   "execution_count": null,
   "id": "f7a8e9e2-5a65-433a-b293-96ef7810dfea",
   "metadata": {},
   "outputs": [],
   "source": []
  }
 ],
 "metadata": {
  "kernelspec": {
   "display_name": "Python 3 (ipykernel)",
   "language": "python",
   "name": "python3"
  },
  "language_info": {
   "codemirror_mode": {
    "name": "ipython",
    "version": 3
   },
   "file_extension": ".py",
   "mimetype": "text/x-python",
   "name": "python",
   "nbconvert_exporter": "python",
   "pygments_lexer": "ipython3",
   "version": "3.11.4"
  }
 },
 "nbformat": 4,
 "nbformat_minor": 5
}
